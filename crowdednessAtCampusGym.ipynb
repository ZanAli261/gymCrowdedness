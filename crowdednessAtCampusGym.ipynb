{
 "cells": [
  {
   "cell_type": "markdown",
   "metadata": {},
   "source": [
    "crowdedness at campus gym dataset from kaggle.com\n",
    "from dataset overview, count of people was taken every 10 minutes during a school year"
   ]
  },
  {
   "cell_type": "code",
   "execution_count": 1,
   "metadata": {},
   "outputs": [],
   "source": [
    "import os \n",
    "import pandas as pd\n",
    "import matplotlib.pyplot as plt\n",
    "import seaborn as sns\n",
    "os.chdir('C:\\\\Data') #I like to keep data files in one place"
   ]
  },
  {
   "cell_type": "code",
   "execution_count": 2,
   "metadata": {
    "scrolled": true
   },
   "outputs": [
    {
     "name": "stdout",
     "output_type": "stream",
     "text": [
      "       number_people     timestamp   day_of_week    is_weekend    is_holiday  \\\n",
      "count   62184.000000  62184.000000  62184.000000  62184.000000  62184.000000   \n",
      "mean       29.072543  45799.437958      2.982504      0.282870      0.002573   \n",
      "std        22.689026  24211.275891      1.996825      0.450398      0.050660   \n",
      "min         0.000000      0.000000      0.000000      0.000000      0.000000   \n",
      "25%         9.000000  26624.000000      1.000000      0.000000      0.000000   \n",
      "50%        28.000000  46522.500000      3.000000      0.000000      0.000000   \n",
      "75%        43.000000  66612.000000      5.000000      1.000000      0.000000   \n",
      "max       145.000000  86399.000000      6.000000      1.000000      1.000000   \n",
      "\n",
      "        temperature  is_start_of_semester  is_during_semester         month  \\\n",
      "count  62184.000000          62184.000000        62184.000000  62184.000000   \n",
      "mean      58.557108              0.078831            0.660218      7.439824   \n",
      "std        6.316396              0.269476            0.473639      3.445069   \n",
      "min       38.140000              0.000000            0.000000      1.000000   \n",
      "25%       55.000000              0.000000            0.000000      5.000000   \n",
      "50%       58.340000              0.000000            1.000000      8.000000   \n",
      "75%       62.280000              0.000000            1.000000     10.000000   \n",
      "max       87.170000              1.000000            1.000000     12.000000   \n",
      "\n",
      "               hour  \n",
      "count  62184.000000  \n",
      "mean      12.236460  \n",
      "std        6.717631  \n",
      "min        0.000000  \n",
      "25%        7.000000  \n",
      "50%       12.000000  \n",
      "75%       18.000000  \n",
      "max       23.000000  \n",
      "<class 'pandas.core.frame.DataFrame'>\n",
      "RangeIndex: 62184 entries, 0 to 62183\n",
      "Data columns (total 11 columns):\n",
      "number_people           62184 non-null int64\n",
      "date                    62184 non-null object\n",
      "timestamp               62184 non-null int64\n",
      "day_of_week             62184 non-null int64\n",
      "is_weekend              62184 non-null int64\n",
      "is_holiday              62184 non-null int64\n",
      "temperature             62184 non-null float64\n",
      "is_start_of_semester    62184 non-null int64\n",
      "is_during_semester      62184 non-null int64\n",
      "month                   62184 non-null int64\n",
      "hour                    62184 non-null int64\n",
      "dtypes: float64(1), int64(9), object(1)\n",
      "memory usage: 5.0+ MB\n",
      "None\n"
     ]
    }
   ],
   "source": [
    "gym = pd.read_csv('crowdedness-at-the-campus-gym.csv')\n",
    "print(gym.describe())\n",
    "print(gym.info())"
   ]
  },
  {
   "cell_type": "markdown",
   "metadata": {},
   "source": [
    "Let's clean up a few things"
   ]
  },
  {
   "cell_type": "code",
   "execution_count": 4,
   "metadata": {},
   "outputs": [],
   "source": [
    "gym['date'] = pd.to_datetime(gym['date'])\n",
    "\n",
    "def label_days(row): \n",
    "    #Map day index to day description for visualization\n",
    "    #From the dataset overview, day_of_week=0 means Monday ... day_of_week=6 means Sunday\n",
    "    if row['day_of_week'] == 0:\n",
    "        return 'Mon'\n",
    "    elif row['day_of_week'] == 1:\n",
    "        return 'Tues'\n",
    "    elif row['day_of_week'] == 2:\n",
    "        return 'Weds'\n",
    "    elif row['day_of_week'] == 3:\n",
    "        return 'Thurs'\n",
    "    elif row['day_of_week'] == 4:\n",
    "        return 'Fri'\n",
    "    elif row['day_of_week'] == 5:\n",
    "        return 'Sat'\n",
    "    elif row['day_of_week'] == 6:\n",
    "        return 'Sun'\n",
    "\n",
    "gym['day_of_week_desc'] = gym.apply(label_days,axis=1)"
   ]
  },
  {
   "cell_type": "markdown",
   "metadata": {},
   "source": [
    "Are there days that more people go to the gym? "
   ]
  },
  {
   "cell_type": "code",
   "execution_count": 5,
   "metadata": {},
   "outputs": [
    {
     "data": {
      "image/png": "[encoded data removed]",
      "text/plain": [
       "<Figure size 432x288 with 1 Axes>"
      ]
     },
     "metadata": {
      "needs_background": "light"
     },
     "output_type": "display_data"
    }
   ],
   "source": [
    "gymDOW = gym.groupby(['day_of_week_desc'], as_index=False).mean()\n",
    "\n",
    "#plt.subplot(2, 1, 1) #More plots to come\n",
    "sns.barplot(x='day_of_week_desc', y='number_people',\n",
    "            data=gymDOW, order=['Mon','Tues','Weds','Thurs','Fri','Sat','Sun'])\n",
    "plt.title('Average Number of People at Gym Per Day')\n",
    "plt.xlabel('Day of the Week')\n",
    "plt.ylabel('Avg # People per Day')\n",
    "plt.show()"
   ]
  },
  {
   "cell_type": "markdown",
   "metadata": {},
   "source": [
    "Looks like people the weekend tends to be less crowded."
   ]
  },
  {
   "cell_type": "markdown",
   "metadata": {},
   "source": [
    "Are there specific hours where the gym is less crowded?"
   ]
  },
  {
   "cell_type": "markdown",
   "metadata": {},
   "source": [
    "Apply ML to see if we can predict how crowded the gym will be."
   ]
  }
 ],
 "metadata": {
  "kernelspec": {
   "display_name": "Python 3",
   "language": "python",
   "name": "python3"
  },
  "language_info": {
   "codemirror_mode": {
    "name": "ipython",
    "version": 3
   },
   "file_extension": ".py",
   "mimetype": "text/x-python",
   "name": "python",
   "nbconvert_exporter": "python",
   "pygments_lexer": "ipython3",
   "version": "3.7.0"
  }
 },
 "nbformat": 4,
 "nbformat_minor": 2
}
